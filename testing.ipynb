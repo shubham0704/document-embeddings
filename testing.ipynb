{
 "cells": [
  {
   "cell_type": "markdown",
   "metadata": {},
   "source": [
    "# Testing our embeddings"
   ]
  },
  {
   "cell_type": "code",
   "execution_count": 1,
   "metadata": {
    "collapsed": true
   },
   "outputs": [],
   "source": [
    "# dependencies\n",
    "import numpy as np"
   ]
  },
  {
   "cell_type": "code",
   "execution_count": 2,
   "metadata": {},
   "outputs": [
    {
     "name": "stdout",
     "output_type": "stream",
     "text": [
      "150\n"
     ]
    }
   ],
   "source": [
    "embs = np.load('embs-150.npy')\n",
    "sents = np.load('useful_sents.npy')\n",
    "useful_sents = sents[:len(embs)]\n",
    "print (len(useful_sents))"
   ]
  },
  {
   "cell_type": "code",
   "execution_count": 40,
   "metadata": {},
   "outputs": [
    {
     "name": "stdout",
     "output_type": "stream",
     "text": [
      "sentence for comparasion -  0 .-> I sat for meditation in the morning and experienced great peace and tranquility \n",
      "\n",
      "***************\n",
      "\n",
      "\n",
      "I sat for meditation in the morning and experienced great peace and tranquility --> 1.0 \n",
      "\n",
      "\n",
      "Between four and five in the morning I dreamt that I was dying and experienced immense peace --> 0.980764259819 \n",
      "\n",
      "\n",
      "In that condition man remains almost perfectly balanced and the mundane world and the brighter world go parallel to each other --> 0.975978383161 \n",
      "\n",
      "\n",
      "Hearing this I felt that my existence and that of Master is one and the same ie my existence was felt to be that of Master and the voice was coming out from inside I am and this voice continued to be felt as long as I was in sleep and dream and even after waking I felt the same voice for sometime --> 0.97478352934 \n",
      "\n",
      "\n",
      "Peace is the substance we want and restlessness is the instrument we use --> 0.970178874764 \n",
      "\n",
      "\n",
      "sentence for comparasion -  1 .-> Peace used to be experienced and reverted to its original condition \n",
      "\n",
      "***************\n",
      "\n",
      "\n",
      "Peace used to be experienced and reverted to its original condition --> 1.0 \n",
      "\n",
      "\n",
      "We have come here not to spoil Gods creation but to retain it in the Divine order --> 0.968218362796 \n",
      "\n",
      "\n",
      "In that condition man remains almost perfectly balanced and the mundane world and the brighter world go parallel to each other --> 0.96799705629 \n",
      "\n",
      "\n",
      "After years of practice when the meditation grows deeper and the thought begins to start ones upward march one comes to a point where one feels I am the power myself --> 0.964737535573 \n",
      "\n",
      "\n",
      "If somehow a man can begin to feel easiness in uneasiness then it will not give place to the outgoing tendencies to enter in it --> 0.964574972921 \n",
      "\n",
      "\n",
      "sentence for comparasion -  2 .-> In the state of extreme tranquility a line of verse struck me  How long shall this bud remain concealed behind this curtain  Then there was something after which I only remembered the last words Gods grace and mercy will descend \n",
      "\n",
      "***************\n",
      "\n",
      "\n",
      "In the state of extreme tranquility a line of verse struck me  How long shall this bud remain concealed behind this curtain  Then there was something after which I only remembered the last words Gods grace and mercy will descend --> 1.0 \n",
      "\n",
      "\n",
      "The state of peace is dormant while the state of satisfaction is active --> 0.971038181906 \n",
      "\n",
      "\n",
      "Hearing this I felt that my existence and that of Master is one and the same ie my existence was felt to be that of Master and the voice was coming out from inside I am and this voice continued to be felt as long as I was in sleep and dream and even after waking I felt the same voice for sometime --> 0.970855123882 \n",
      "\n",
      "\n",
      "When the outgoing tendencies of the mind come in touch with it or in other words when the tendencies touch the field of easiness its opposite is felt --> 0.970166529316 \n",
      "\n",
      "\n",
      "It came from the highest intelligence because that was the component factor to give movement to the will of God --> 0.96989648075 \n",
      "\n",
      "\n",
      "sentence for comparasion -  3 .-> There was peace of mind and an almost changeless condition \n",
      "\n",
      "***************\n",
      "\n",
      "\n",
      "There was peace of mind and an almost changeless condition --> 1.0 \n",
      "\n",
      "\n",
      "The state of peace is dormant while the state of satisfaction is active --> 0.957418333212 \n",
      "\n",
      "\n",
      "When the outgoing tendencies of the mind come in touch with it or in other words when the tendencies touch the field of easiness its opposite is felt --> 0.955345404896 \n",
      "\n",
      "\n",
      "Satisfaction is the production of man whereas peace is the production of God --> 0.954386599954 \n",
      "\n",
      "\n",
      "Hearing this I felt that my existence and that of Master is one and the same ie my existence was felt to be that of Master and the voice was coming out from inside I am and this voice continued to be felt as long as I was in sleep and dream and even after waking I felt the same voice for sometime --> 0.953286115088 \n",
      "\n",
      "\n",
      "sentence for comparasion -  4 .-> Dreamt in the night that I visited the holy shrine of Prophet Mohammed in Mecca \n",
      "\n",
      "***************\n",
      "\n",
      "\n",
      "Dreamt in the night that I visited the holy shrine of Prophet Mohammed in Mecca --> 1.0 \n",
      "\n",
      "\n",
      "I had a dream in the night that I visited a certain place in the company of two of my associates --> 0.976584916376 \n",
      "\n",
      "\n",
      "I give the meaning of surat in this way --> 0.976573769829 \n",
      "\n",
      "\n",
      "At nine in the morning while I was on my way to Court I felt that the world is a playground of Nature in which everybody is longing for perfection but having forgotten that his real self is performing worldly acts --> 0.970008928651 \n",
      "\n",
      "\n",
      "When the outgoing tendencies of the mind come in touch with it or in other words when the tendencies touch the field of easiness its opposite is felt --> 0.969387944766 \n",
      "\n",
      "\n"
     ]
    }
   ],
   "source": [
    "#from scipy import spatial\n",
    "import operator\n",
    "#from sklearn.metrics.pairwise import cosine_similarity\n",
    "\n",
    "def cosine_sim(a, b):\n",
    "    a = np.array(a)\n",
    "    b = np.array(b)\n",
    "    return np.dot(a.flatten(), b.flatten().T)/(np.linalg.norm(a) * np.linalg.norm(b))\n",
    "\n",
    "#print (cosine_sim([1,2,3], [1,2,3]))\n",
    "\n",
    "def top_n_sim(emb, embs, topn=5):\n",
    "    \"\"\"\n",
    "    calculate cosine between query_emb and all_embs\n",
    "    returns - list of tuples, each tuple of type (distance, index)\n",
    "    :param query_sent : sentence \n",
    "    :param all_sents : all sentences in corpus   \n",
    "    \"\"\"\n",
    "    # sort list according to cosine_similarity and return\n",
    "    result = []\n",
    "    for index, sent in enumerate(embs):\n",
    "        #if emb.shape != embs[i].shape:\n",
    "        sim = cosine_sim(emb, embs[index])\n",
    "        #print(sim)\n",
    "        result.append((sim, index))\n",
    "        #break\n",
    "    #else: raise Exception(\"shapes not equal {}, {} at index {}, {}\".format(emb.shape, embs[i].shape, i, emb))\n",
    "    result.sort(key=operator.itemgetter(0), reverse=True)\n",
    "    return result[:topn]\n",
    "\n",
    "for i, sent in enumerate(useful_sents[:5]):\n",
    "    results = top_n_sim(embs[i], embs)\n",
    "    print('sentence for comparasion - ', i,'.->',sent , '\\n\\n***************\\n\\n')\n",
    "    for result in results:\n",
    "        print(useful_sents[result[1]], '-->',result[0], '\\n\\n')\n"
   ]
  },
  {
   "cell_type": "code",
   "execution_count": 39,
   "metadata": {},
   "outputs": [
    {
     "name": "stdout",
     "output_type": "stream",
     "text": [
      "1.0\n"
     ]
    }
   ],
   "source": [
    "#print (spatial.distance.cosine(embs[0], embs[0]))\n",
    "#print (embs[0])\n",
    "print (cosine_sim(embs[0], embs[0]))"
   ]
  },
  {
   "cell_type": "code",
   "execution_count": 23,
   "metadata": {},
   "outputs": [
    {
     "name": "stdout",
     "output_type": "stream",
     "text": [
      "5.0\n"
     ]
    },
    {
     "data": {
      "text/plain": [
       "18"
      ]
     },
     "execution_count": 23,
     "metadata": {},
     "output_type": "execute_result"
    }
   ],
   "source": [
    "a = np.array([3,4])\n",
    "b = np.array([2,3])\n",
    "print(np.linalg.norm(a))\n",
    "np.dot(a,b)"
   ]
  },
  {
   "cell_type": "code",
   "execution_count": null,
   "metadata": {
    "collapsed": true
   },
   "outputs": [],
   "source": []
  }
 ],
 "metadata": {
  "kernelspec": {
   "display_name": "Python 3",
   "language": "python",
   "name": "python3"
  },
  "language_info": {
   "codemirror_mode": {
    "name": "ipython",
    "version": 3
   },
   "file_extension": ".py",
   "mimetype": "text/x-python",
   "name": "python",
   "nbconvert_exporter": "python",
   "pygments_lexer": "ipython3",
   "version": "3.5.2"
  }
 },
 "nbformat": 4,
 "nbformat_minor": 2
}
